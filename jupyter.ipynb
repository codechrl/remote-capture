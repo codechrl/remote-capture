{
 "cells": [
  {
   "attachments": {},
   "cell_type": "markdown",
   "metadata": {},
   "source": [
    "# Playground"
   ]
  },
  {
   "cell_type": "code",
   "execution_count": null,
   "metadata": {},
   "outputs": [],
   "source": [
    "from pcap_handler import pcapHandler, dfHandler\n",
    "import pandas as pd\n",
    "from datetime import datetime"
   ]
  },
  {
   "cell_type": "code",
   "execution_count": null,
   "metadata": {},
   "outputs": [],
   "source": [
    "pcap2df = pcapHandler(file=\"data\\pcap\\capture_2023-02-25_210200.pcap\", verbose=True)\n",
    "df = pcap2df.to_DF(head=True)"
   ]
  },
  {
   "cell_type": "code",
   "execution_count": null,
   "metadata": {},
   "outputs": [],
   "source": [
    "df.head()"
   ]
  },
  {
   "cell_type": "code",
   "execution_count": null,
   "metadata": {},
   "outputs": [],
   "source": [
    "columns = [ \n",
    "    'version',\n",
    "    'ihl',\n",
    "    'tos',\n",
    "    'len',\n",
    "    'id',\n",
    "    'flags_fragment',\n",
    "    'frag',\n",
    "    'ttl',\n",
    "    'proto',\n",
    "    'chksum',\n",
    "    'src',\n",
    "    'dst',\n",
    "    'options',\n",
    "    'time',\n",
    "    'sport',\n",
    "    'dport',\n",
    "    'seq',\n",
    "    'ack',\n",
    "    'dataofs',\n",
    "    'reserved',\n",
    "    'flags',\n",
    "    'window',\n",
    "    'chksum_payload',\n",
    "    'urgptr',\n",
    "    'options_payload',\n",
    "    'payload',\n",
    "    'payload_raw',\n",
    "    'payload_hex',\n",
    "]"
   ]
  },
  {
   "cell_type": "code",
   "execution_count": null,
   "metadata": {},
   "outputs": [],
   "source": [
    "df = df.set_axis(columns, axis=1)"
   ]
  },
  {
   "cell_type": "code",
   "execution_count": null,
   "metadata": {},
   "outputs": [],
   "source": [
    "df.to_excel(\"data\\pcap_handler.xlsx\", index=False)"
   ]
  },
  {
   "attachments": {},
   "cell_type": "markdown",
   "metadata": {},
   "source": [
    "# database"
   ]
  },
  {
   "cell_type": "code",
   "execution_count": null,
   "metadata": {},
   "outputs": [],
   "source": [
    "df = df.convert_dtypes()\n",
    "\n",
    "# df['payload_hex'] = df['payload_hex'].astype(bytes)\n",
    "# df['payload_raw'] = df['payload_raw'].astype(bytes)\n",
    "df['flags_fragment'] = df['flags_fragment'].astype(\"string\")\n",
    "df['flags'] = df['flags'].astype(\"string\")\n",
    "df[\"time\"] = pd.to_numeric(df[\"time\"])\n",
    "\n",
    "df.head()"
   ]
  },
  {
   "cell_type": "code",
   "execution_count": null,
   "metadata": {},
   "outputs": [],
   "source": [
    "df.info()"
   ]
  },
  {
   "cell_type": "code",
   "execution_count": null,
   "metadata": {},
   "outputs": [],
   "source": [
    "engine = create_engine(CONNSTR)\n",
    "\n",
    "# Write data into the table in sqllite database\n",
    "try:\n",
    "  df[:1].to_sql(\"activity_\", engine )\n",
    "except Exception as e:\n",
    "  #print(\"error \\t:\"+e)\n",
    "  pass"
   ]
  },
  {
   "attachments": {},
   "cell_type": "markdown",
   "metadata": {},
   "source": [
    "# extract payload"
   ]
  },
  {
   "cell_type": "code",
   "execution_count": null,
   "metadata": {},
   "outputs": [],
   "source": [
    "records = df.to_dict('records')"
   ]
  },
  {
   "cell_type": "code",
   "execution_count": null,
   "metadata": {},
   "outputs": [],
   "source": [
    "for idx, rec in enumerate(records):\n",
    "    try:\n",
    "\n",
    "        payload = str(rec['payload_raw'])\n",
    "        lst = payload.replace(\"\\\\r\",\"\").replace(\"b'\",\"\").split(\"\\\\n\")\n",
    "\n",
    "        lst = list(elem for elem in lst if elem not in [ \"'\", '' ])\n",
    "\n",
    "        for _idx, elem in enumerate(lst):\n",
    "            if _idx == 0:\n",
    "                _elem  = lst[0].split(\" \")\n",
    "                records[idx]['payload_method'] = _elem[0]\n",
    "                records[idx]['payload_route'] = _elem[1]\n",
    "                records[idx]['payload_protocol'] = _elem[2]\n",
    "            else:\n",
    "                kv = elem.split(\":\")\n",
    "                records[idx][\"payload_\"+kv[0]] = kv[1]\n",
    "        \n",
    "        \n",
    "        records[idx]['datetime'] = datetime.fromtimestamp( rec['time'] )\n",
    "\n",
    "    except Exception as e:\n",
    "        # print(str(e))\n",
    "        pass"
   ]
  },
  {
   "cell_type": "code",
   "execution_count": null,
   "metadata": {},
   "outputs": [],
   "source": [
    "df = pd.DataFrame(records)\n",
    "df.head()"
   ]
  },
  {
   "cell_type": "code",
   "execution_count": null,
   "metadata": {},
   "outputs": [],
   "source": [
    "columns = list(df.columns)\n",
    "df = df.set_axis(list( col.lower() for col in columns ), axis=1)"
   ]
  },
  {
   "cell_type": "code",
   "execution_count": null,
   "metadata": {},
   "outputs": [],
   "source": [
    "df.columns"
   ]
  },
  {
   "cell_type": "code",
   "execution_count": null,
   "metadata": {},
   "outputs": [],
   "source": [
    "df.to_excel(\"data\\pcap_handler_reformat.xlsx\", index=False)"
   ]
  },
  {
   "cell_type": "code",
   "execution_count": null,
   "metadata": {},
   "outputs": [],
   "source": []
  }
 ],
 "metadata": {
  "kernelspec": {
   "display_name": "remote-capture",
   "language": "python",
   "name": "python3"
  },
  "language_info": {
   "codemirror_mode": {
    "name": "ipython",
    "version": 3
   },
   "file_extension": ".py",
   "mimetype": "text/x-python",
   "name": "python",
   "nbconvert_exporter": "python",
   "pygments_lexer": "ipython3",
   "version": "3.10.9"
  },
  "orig_nbformat": 4,
  "vscode": {
   "interpreter": {
    "hash": "89bff45c20c3999aef56c025a54d28e1b64bea42eb2e3a92b6bbaca06d4750b7"
   }
  }
 },
 "nbformat": 4,
 "nbformat_minor": 2
}
