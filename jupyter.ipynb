{
 "cells": [
  {
   "attachments": {},
   "cell_type": "markdown",
   "metadata": {},
   "source": [
    "# Playground"
   ]
  },
  {
   "cell_type": "code",
   "execution_count": null,
   "metadata": {},
   "outputs": [],
   "source": [
    "import pandas as pd\n",
    "\n",
    "# Existing DataFrame\n",
    "existing_data = {\n",
    "    'dict1': {'a': 1, 'b': 2, 'c': 3},\n",
    "    'dict2': {'d': 4, 'e': 5, 'f': 6},\n",
    "    'dict3': {'g': 7, 'h': 8, 'i': 9}\n",
    "}\n",
    "df = pd.DataFrame(existing_data)\n",
    "\n",
    "# New data dictionary with different keys and integer index\n",
    "new_data = {\n",
    "    'dict4': {\"j\": 10, 'k': 11, 'l': 12},\n",
    "    'dict5': {0: 13, 1: 14, 2: 15}\n",
    "}\n",
    "\n",
    "# Create a new DataFrame from the new data dictionary\n",
    "new_df = pd.DataFrame(new_data)\n",
    "\n",
    "# Concatenate the existing DataFrame with the new DataFrame\n",
    "df = pd.concat([df, new_df], axis=1)\n",
    "\n",
    "# Reset the index of the resulting DataFrame to integers\n",
    "df = df.T\n",
    "df = df.reset_index(drop=True)\n",
    "\n",
    "df\n"
   ]
  },
  {
   "cell_type": "code",
   "execution_count": null,
   "metadata": {},
   "outputs": [],
   "source": []
  }
 ],
 "metadata": {
  "kernelspec": {
   "display_name": "remote-capture",
   "language": "python",
   "name": "python3"
  },
  "language_info": {
   "codemirror_mode": {
    "name": "ipython",
    "version": 3
   },
   "file_extension": ".py",
   "mimetype": "text/x-python",
   "name": "python",
   "nbconvert_exporter": "python",
   "pygments_lexer": "ipython3",
   "version": "3.10.9"
  },
  "orig_nbformat": 4,
  "vscode": {
   "interpreter": {
    "hash": "89bff45c20c3999aef56c025a54d28e1b64bea42eb2e3a92b6bbaca06d4750b7"
   }
  }
 },
 "nbformat": 4,
 "nbformat_minor": 2
}
