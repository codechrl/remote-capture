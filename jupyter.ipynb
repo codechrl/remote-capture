{
 "cells": [
  {
   "attachments": {},
   "cell_type": "markdown",
   "metadata": {},
   "source": [
    "# Remote Capture"
   ]
  },
  {
   "attachments": {},
   "cell_type": "markdown",
   "metadata": {},
   "source": [
    "### listen"
   ]
  },
  {
   "cell_type": "code",
   "execution_count": 5,
   "metadata": {},
   "outputs": [
    {
     "data": {
      "text/html": [
       "<div>\n",
       "<style scoped>\n",
       "    .dataframe tbody tr th:only-of-type {\n",
       "        vertical-align: middle;\n",
       "    }\n",
       "\n",
       "    .dataframe tbody tr th {\n",
       "        vertical-align: top;\n",
       "    }\n",
       "\n",
       "    .dataframe thead th {\n",
       "        text-align: right;\n",
       "    }\n",
       "</style>\n",
       "<table border=\"1\" class=\"dataframe\">\n",
       "  <thead>\n",
       "    <tr style=\"text-align: right;\">\n",
       "      <th></th>\n",
       "      <th>src</th>\n",
       "      <th>dst</th>\n",
       "      <th>protocol</th>\n",
       "      <th>length</th>\n",
       "    </tr>\n",
       "  </thead>\n",
       "  <tbody>\n",
       "    <tr>\n",
       "      <th>0</th>\n",
       "      <td>172.104.184.124</td>\n",
       "      <td>103.122.5.75</td>\n",
       "      <td>6</td>\n",
       "      <td>465</td>\n",
       "    </tr>\n",
       "    <tr>\n",
       "      <th>1</th>\n",
       "      <td>103.122.5.75</td>\n",
       "      <td>172.104.184.124</td>\n",
       "      <td>6</td>\n",
       "      <td>242</td>\n",
       "    </tr>\n",
       "    <tr>\n",
       "      <th>2</th>\n",
       "      <td>172.104.184.124</td>\n",
       "      <td>103.122.5.75</td>\n",
       "      <td>6</td>\n",
       "      <td>52</td>\n",
       "    </tr>\n",
       "    <tr>\n",
       "      <th>3</th>\n",
       "      <td>172.104.184.124</td>\n",
       "      <td>51.159.22.177</td>\n",
       "      <td>6</td>\n",
       "      <td>190</td>\n",
       "    </tr>\n",
       "    <tr>\n",
       "      <th>4</th>\n",
       "      <td>51.159.22.177</td>\n",
       "      <td>172.104.184.124</td>\n",
       "      <td>6</td>\n",
       "      <td>52</td>\n",
       "    </tr>\n",
       "  </tbody>\n",
       "</table>\n",
       "</div>"
      ],
      "text/plain": [
       "               src              dst  protocol  length\n",
       "0  172.104.184.124     103.122.5.75         6     465\n",
       "1     103.122.5.75  172.104.184.124         6     242\n",
       "2  172.104.184.124     103.122.5.75         6      52\n",
       "3  172.104.184.124    51.159.22.177         6     190\n",
       "4    51.159.22.177  172.104.184.124         6      52"
      ]
     },
     "execution_count": 5,
     "metadata": {},
     "output_type": "execute_result"
    }
   ],
   "source": [
    "import pandas as pd\n",
    "import scapy.all as scapy\n",
    "\n",
    "# PCAP file path\n",
    "pcap_file = './capture.pcap'\n",
    "\n",
    "# Load the PCAP file into a list of packets\n",
    "packets = scapy.rdpcap(pcap_file)\n",
    "\n",
    "# Create a list of dictionaries to store packet information\n",
    "data = []\n",
    "for packet in packets:\n",
    "    packet_info = {}\n",
    "    if scapy.IP in packet:\n",
    "        packet_info['src'] = packet[scapy.IP].src\n",
    "        packet_info['dst'] = packet[scapy.IP].dst\n",
    "        packet_info['protocol'] = packet[scapy.IP].proto\n",
    "        packet_info['length'] = packet[scapy.IP].len\n",
    "        data.append(packet_info)\n",
    "\n",
    "# Convert the list of dictionaries to a Pandas df\n",
    "df = pd.df(data)\n",
    "\n",
    "# Print the df\n",
    "df.head()"
   ]
  },
  {
   "attachments": {},
   "cell_type": "markdown",
   "metadata": {},
   "source": [
    "### extract"
   ]
  },
  {
   "cell_type": "code",
   "execution_count": 29,
   "metadata": {},
   "outputs": [
    {
     "name": "stdout",
     "output_type": "stream",
     "text": [
      "Source IP: 172.104.184.124\n",
      "Destination IP: 103.23.22.101\n",
      "HTTP Payload:\n",
      "b''\n",
      "Source IP: 172.104.184.124\n",
      "Destination IP: 103.23.22.101\n",
      "HTTP Payload:\n",
      "b''\n",
      "Source IP: 172.104.184.124\n",
      "Destination IP: 103.23.22.101\n",
      "HTTP Payload:\n",
      "b''\n",
      "Source IP: 172.104.184.124\n",
      "Destination IP: 103.23.22.101\n",
      "HTTP Payload:\n",
      "b''\n",
      "Source IP: 172.104.184.124\n",
      "Destination IP: 103.23.22.101\n",
      "HTTP Payload:\n",
      "b''\n"
     ]
    }
   ],
   "source": [
    "import dpkt\n",
    "import socket\n",
    "\n",
    "# Open the PCAP file\n",
    "with open(\"capture.pcap\", \"rb\") as f:\n",
    "    pcap = dpkt.pcap.Reader(f)\n",
    "\n",
    "    # Iterate through each packet in the PCAP file\n",
    "    for ts, buf in pcap:\n",
    "        # Parse the packet\n",
    "        eth = dpkt.ethernet.Ethernet(buf)\n",
    "\n",
    "        # Check if the packet is an IP packet\n",
    "        if isinstance(eth.data, dpkt.ip.IP):\n",
    "            ip = eth.data\n",
    "\n",
    "            # Check if the packet is a TCP packet\n",
    "            if isinstance(ip.data, dpkt.tcp.TCP):\n",
    "                tcp = ip.data\n",
    "\n",
    "                # Check if the packet contains HTTPS data\n",
    "                if len(tcp.data) > 0:\n",
    "                    try:\n",
    "                        # Attempt to parse the HTTPS data\n",
    "                        HTTPS = dpkt.HTTPS.Request(tcp.data)\n",
    "\n",
    "                        # Print the source IP, destination IP, and HTTPS payload\n",
    "                        print(\"Source IP: {}\".format(socket.inet_ntoa(ip.src)))\n",
    "                        print(\"Destination IP: {}\".format(socket.inet_ntoa(ip.dst)))\n",
    "                        print(\"HTTPS Payload:\\n{}\".format(HTTPS.body))\n",
    "                    except (dpkt.dpkt.NeedData, dpkt.dpkt.UnpackError):\n",
    "                        # Ignore packets that can't be parsed as HTTPS\n",
    "                        pass"
   ]
  },
  {
   "cell_type": "code",
   "execution_count": 69,
   "metadata": {},
   "outputs": [
    {
     "name": "stdout",
     "output_type": "stream",
     "text": [
      "47 45 54 20 2f 61 70 69 2f 6d 61 73 74 65 72 2f 6b 65 6c     GET./api/master/kel\n",
      "61 73 3f 73 74 61 72 74 3d 30 26 6c 69 6d 69 74 3d 31 30     as?start=0&limit=10\n",
      "30 26 6e 61 6d 61 3d 26 62 79 3d 26 61 73 63 3d 20 48 54     0&nama=&by=&asc=.HT\n",
      "54 50 2f 31 2e 31 0d 0a 48 6f 73 74 3a 20 73 69 6d 70 6f     TP/1.1..Host:.simpo\n",
      "6e 69 2e 34 76 69 73 69 6f 6e 6d 65 64 69 61 2e 6e 65 74     ni.4visionmedia.net\n",
      "0d 0a 55 73 65 72 2d 41 67 65 6e 74 3a 20 70 79 74 68 6f     ..User-Agent:.pytho\n",
      "6e 2d 72 65 71 75 65 73 74 73 2f 32 2e 32 35 2e 31 0d 0a     n-requests/2.25.1..\n",
      "41 63 63 65 70 74 2d 45 6e 63 6f 64 69 6e 67 3a 20 67 7a     Accept-Encoding:.gz\n",
      "69 70 2c 20 64 65 66 6c 61 74 65 0d 0a 41 63 63 65 70 74     ip,.deflate..Accept\n",
      "3a 20 2a 2f 2a 0d 0a 43 6f 6e 6e 65 63 74 69 6f 6e 3a 20     :.*/*..Connection:.\n",
      "6b 65 65 70 2d 61 6c 69 76 65 0d 0a 0d 0a                    keep-alive....\n"
     ]
    }
   ],
   "source": [
    "from pcapkit import HTTP, extract\n",
    "# set strict to make sure full reassembly\n",
    "extraction = extract(fin='capture.pcap', store=False, nofile=True, tcp=True, strict=True)\n",
    "# print extracted packet if HTTP in reassembled payloads\n",
    "for datagram in extraction.reassembly.tcp:\n",
    "    if datagram.packet is not None and HTTP in datagram.packet:\n",
    "        data = datagram.packet\n",
    "        print(datagram.packet[HTTP])\n",
    "        break"
   ]
  },
  {
   "cell_type": "code",
   "execution_count": 70,
   "metadata": {},
   "outputs": [
    {
     "data": {
      "text/plain": [
       "pcapkit.protocols.application.http.HTTP"
      ]
     },
     "execution_count": 70,
     "metadata": {},
     "output_type": "execute_result"
    }
   ],
   "source": [
    "type(data)"
   ]
  },
  {
   "cell_type": "code",
   "execution_count": 71,
   "metadata": {},
   "outputs": [
    {
     "data": {
      "text/plain": [
       "<HTTP alias='HTTP/1.1' http=(receipt=..., header=OrderedMultiDict([('Host', 'simponi.4visionmedia.net'), ('User-Agent', 'python-requests/2.25.1'), ('Accept-Encoding', 'gzip, deflate'), ('Accept', '*/*'), ('Connection', 'keep-alive')]), body=None)>"
      ]
     },
     "execution_count": 71,
     "metadata": {},
     "output_type": "execute_result"
    }
   ],
   "source": [
    "data"
   ]
  },
  {
   "cell_type": "code",
   "execution_count": 72,
   "metadata": {},
   "outputs": [
    {
     "data": {
      "text/plain": [
       "Packet(header=b'GET /api/master/kelas?start=0&limit=100&nama=&by=&asc= HTTP/1.1\\r\\nHost: simponi.4visionmedia.net\\r\\nUser-Agent: python-requests/2.25.1\\r\\nAccept-Encoding: gzip, deflate\\r\\nAccept: */*\\r\\nConnection: keep-alive\\r\\n\\r\\n', payload=b'')"
      ]
     },
     "execution_count": 72,
     "metadata": {},
     "output_type": "execute_result"
    }
   ],
   "source": [
    "data.packet"
   ]
  },
  {
   "cell_type": "code",
   "execution_count": 73,
   "metadata": {},
   "outputs": [
    {
     "data": {
      "text/plain": [
       "[\"Packet(header=b'GET /api/master/kelas?start=0&limit=100&nama=&by=&asc= HTTP/1.1\",\n",
       " 'Host: simponi.4visionmedia.net',\n",
       " 'User-Agent: python-requests/2.25.1',\n",
       " 'Accept-Encoding: gzip, deflate',\n",
       " 'Accept: */*',\n",
       " 'Connection: keep-alive',\n",
       " '',\n",
       " \"', payload=b'')\"]"
      ]
     },
     "execution_count": 73,
     "metadata": {},
     "output_type": "execute_result"
    }
   ],
   "source": [
    "str(data.packet).replace(\"\\\\r\", '').split(\"\\\\n\")"
   ]
  },
  {
   "attachments": {},
   "cell_type": "markdown",
   "metadata": {},
   "source": [
    "## v"
   ]
  },
  {
   "cell_type": "code",
   "execution_count": 1,
   "metadata": {},
   "outputs": [
    {
     "name": "stdout",
     "output_type": "stream",
     "text": [
      "INFO: \t Connected to Remote Server 172.104.184.124\n",
      "INFO:  \t Listening 172.104.184.124\n"
     ]
    }
   ],
   "source": [
    "import paramiko\n",
    "import time\n",
    "import os\n",
    "\n",
    "# Function to capture packets using Scapy\n",
    "def capture_packets():\n",
    "    # Use Scapy to capture and save packets to PCAP file\n",
    "    sniff(offline=\"packets.pcap\")\n",
    "\n",
    "# SSH credentials for the remote server\n",
    "hostname = \"172.104.184.124\"\n",
    "username = \"root\"\n",
    "password = \"Hehe100x\"\n",
    "\n",
    "port_listen = 443\n",
    "\n",
    "# PCAP file path on local machine\n",
    "pcap_file = './capture.pcap'\n",
    "\n",
    "# Start the SSH connection\n",
    "ssh = paramiko.SSHClient()\n",
    "ssh.set_missing_host_key_policy(paramiko.AutoAddPolicy())\n",
    "ssh.connect(hostname, username=username, password=password)\n",
    "print(f\"INFO: \\t Connected to Remote Server {hostname}\")\n",
    "\n",
    "# Start packet capture on remote server\n",
    "cmd = 'tcpdump -s 0 -U -w - '\n",
    "filter = \"not port 22 and not host 51.159.22.177 and not host 51.159.53.209 and not dst host 172.104.184.124 and not dst host 103.122.5.75 and not udp\"\n",
    "stdin, stdout, stderr = ssh.exec_command( cmd+filter )\n",
    "print(f\"INFO:  \\t Listening {hostname}\")\n",
    "\n",
    "# Save PCAP file on local machine\n",
    "with open(pcap_file, 'wb') as f:\n",
    "    while True:\n",
    "        data = stdout.read(1024)\n",
    "        #print( data.strip() )\n",
    "        if len(data) == 0:\n",
    "            break\n",
    "        f.write(data)\n",
    "        \n",
    "# Close the SSH connection\n",
    "ssh.close()"
   ]
  },
  {
   "cell_type": "code",
   "execution_count": 2,
   "metadata": {},
   "outputs": [
    {
     "ename": "JSONDecodeError",
     "evalue": "Extra data: line 24 column 2 (char 384)",
     "output_type": "error",
     "traceback": [
      "\u001b[1;31m---------------------------------------------------------------------------\u001b[0m",
      "\u001b[1;31mJSONDecodeError\u001b[0m                           Traceback (most recent call last)",
      "Cell \u001b[1;32mIn[2], line 7\u001b[0m\n\u001b[0;32m      4\u001b[0m f \u001b[39m=\u001b[39m \u001b[39mopen\u001b[39m(\u001b[39m'\u001b[39m\u001b[39mout.json\u001b[39m\u001b[39m'\u001b[39m)\n\u001b[0;32m      6\u001b[0m \u001b[39m# returns JSON object as a dictionary\u001b[39;00m\n\u001b[1;32m----> 7\u001b[0m data \u001b[39m=\u001b[39m json\u001b[39m.\u001b[39;49mload(f)\n\u001b[0;32m      9\u001b[0m data[\u001b[39m'\u001b[39m\u001b[39mFrame 57\u001b[39m\u001b[39m'\u001b[39m][\u001b[39m'\u001b[39m\u001b[39methernet\u001b[39m\u001b[39m'\u001b[39m][\u001b[39m'\u001b[39m\u001b[39mipv4\u001b[39m\u001b[39m'\u001b[39m][\u001b[39m'\u001b[39m\u001b[39mtcp\u001b[39m\u001b[39m'\u001b[39m][\u001b[39m'\u001b[39m\u001b[39mhttp\u001b[39m\u001b[39m'\u001b[39m]\n",
      "File \u001b[1;32me:\\ProgramData\\Anaconda3\\envs\\remote-capture\\lib\\json\\__init__.py:293\u001b[0m, in \u001b[0;36mload\u001b[1;34m(fp, cls, object_hook, parse_float, parse_int, parse_constant, object_pairs_hook, **kw)\u001b[0m\n\u001b[0;32m    274\u001b[0m \u001b[39mdef\u001b[39;00m \u001b[39mload\u001b[39m(fp, \u001b[39m*\u001b[39m, \u001b[39mcls\u001b[39m\u001b[39m=\u001b[39m\u001b[39mNone\u001b[39;00m, object_hook\u001b[39m=\u001b[39m\u001b[39mNone\u001b[39;00m, parse_float\u001b[39m=\u001b[39m\u001b[39mNone\u001b[39;00m,\n\u001b[0;32m    275\u001b[0m         parse_int\u001b[39m=\u001b[39m\u001b[39mNone\u001b[39;00m, parse_constant\u001b[39m=\u001b[39m\u001b[39mNone\u001b[39;00m, object_pairs_hook\u001b[39m=\u001b[39m\u001b[39mNone\u001b[39;00m, \u001b[39m*\u001b[39m\u001b[39m*\u001b[39mkw):\n\u001b[0;32m    276\u001b[0m \u001b[39m    \u001b[39m\u001b[39m\"\"\"Deserialize ``fp`` (a ``.read()``-supporting file-like object containing\u001b[39;00m\n\u001b[0;32m    277\u001b[0m \u001b[39m    a JSON document) to a Python object.\u001b[39;00m\n\u001b[0;32m    278\u001b[0m \n\u001b[1;32m   (...)\u001b[0m\n\u001b[0;32m    291\u001b[0m \u001b[39m    kwarg; otherwise ``JSONDecoder`` is used.\u001b[39;00m\n\u001b[0;32m    292\u001b[0m \u001b[39m    \"\"\"\u001b[39;00m\n\u001b[1;32m--> 293\u001b[0m     \u001b[39mreturn\u001b[39;00m loads(fp\u001b[39m.\u001b[39mread(),\n\u001b[0;32m    294\u001b[0m         \u001b[39mcls\u001b[39m\u001b[39m=\u001b[39m\u001b[39mcls\u001b[39m, object_hook\u001b[39m=\u001b[39mobject_hook,\n\u001b[0;32m    295\u001b[0m         parse_float\u001b[39m=\u001b[39mparse_float, parse_int\u001b[39m=\u001b[39mparse_int,\n\u001b[0;32m    296\u001b[0m         parse_constant\u001b[39m=\u001b[39mparse_constant, object_pairs_hook\u001b[39m=\u001b[39mobject_pairs_hook, \u001b[39m*\u001b[39m\u001b[39m*\u001b[39mkw)\n",
      "File \u001b[1;32me:\\ProgramData\\Anaconda3\\envs\\remote-capture\\lib\\json\\__init__.py:346\u001b[0m, in \u001b[0;36mloads\u001b[1;34m(s, cls, object_hook, parse_float, parse_int, parse_constant, object_pairs_hook, **kw)\u001b[0m\n\u001b[0;32m    341\u001b[0m     s \u001b[39m=\u001b[39m s\u001b[39m.\u001b[39mdecode(detect_encoding(s), \u001b[39m'\u001b[39m\u001b[39msurrogatepass\u001b[39m\u001b[39m'\u001b[39m)\n\u001b[0;32m    343\u001b[0m \u001b[39mif\u001b[39;00m (\u001b[39mcls\u001b[39m \u001b[39mis\u001b[39;00m \u001b[39mNone\u001b[39;00m \u001b[39mand\u001b[39;00m object_hook \u001b[39mis\u001b[39;00m \u001b[39mNone\u001b[39;00m \u001b[39mand\u001b[39;00m\n\u001b[0;32m    344\u001b[0m         parse_int \u001b[39mis\u001b[39;00m \u001b[39mNone\u001b[39;00m \u001b[39mand\u001b[39;00m parse_float \u001b[39mis\u001b[39;00m \u001b[39mNone\u001b[39;00m \u001b[39mand\u001b[39;00m\n\u001b[0;32m    345\u001b[0m         parse_constant \u001b[39mis\u001b[39;00m \u001b[39mNone\u001b[39;00m \u001b[39mand\u001b[39;00m object_pairs_hook \u001b[39mis\u001b[39;00m \u001b[39mNone\u001b[39;00m \u001b[39mand\u001b[39;00m \u001b[39mnot\u001b[39;00m kw):\n\u001b[1;32m--> 346\u001b[0m     \u001b[39mreturn\u001b[39;00m _default_decoder\u001b[39m.\u001b[39;49mdecode(s)\n\u001b[0;32m    347\u001b[0m \u001b[39mif\u001b[39;00m \u001b[39mcls\u001b[39m \u001b[39mis\u001b[39;00m \u001b[39mNone\u001b[39;00m:\n\u001b[0;32m    348\u001b[0m     \u001b[39mcls\u001b[39m \u001b[39m=\u001b[39m JSONDecoder\n",
      "File \u001b[1;32me:\\ProgramData\\Anaconda3\\envs\\remote-capture\\lib\\json\\decoder.py:340\u001b[0m, in \u001b[0;36mJSONDecoder.decode\u001b[1;34m(self, s, _w)\u001b[0m\n\u001b[0;32m    338\u001b[0m end \u001b[39m=\u001b[39m _w(s, end)\u001b[39m.\u001b[39mend()\n\u001b[0;32m    339\u001b[0m \u001b[39mif\u001b[39;00m end \u001b[39m!=\u001b[39m \u001b[39mlen\u001b[39m(s):\n\u001b[1;32m--> 340\u001b[0m     \u001b[39mraise\u001b[39;00m JSONDecodeError(\u001b[39m\"\u001b[39m\u001b[39mExtra data\u001b[39m\u001b[39m\"\u001b[39m, s, end)\n\u001b[0;32m    341\u001b[0m \u001b[39mreturn\u001b[39;00m obj\n",
      "\u001b[1;31mJSONDecodeError\u001b[0m: Extra data: line 24 column 2 (char 384)"
     ]
    }
   ],
   "source": [
    "import json\n",
    "  \n",
    "# Read JSON file\n",
    "f = open('out.json')\n",
    "  \n",
    "# returns JSON object as a dictionary\n",
    "data = json.load(f)\n",
    "\n",
    "data['Frame 57']['ethernet']['ipv4']['tcp']['http']\n"
   ]
  },
  {
   "cell_type": "code",
   "execution_count": 3,
   "metadata": {},
   "outputs": [
    {
     "data": {
      "text/html": [
       "<div>\n",
       "<style scoped>\n",
       "    .dataframe tbody tr th:only-of-type {\n",
       "        vertical-align: middle;\n",
       "    }\n",
       "\n",
       "    .dataframe tbody tr th {\n",
       "        vertical-align: top;\n",
       "    }\n",
       "\n",
       "    .dataframe thead th {\n",
       "        text-align: right;\n",
       "    }\n",
       "</style>\n",
       "<table border=\"1\" class=\"dataframe\">\n",
       "  <thead>\n",
       "    <tr style=\"text-align: right;\">\n",
       "      <th></th>\n",
       "      <th>type</th>\n",
       "      <th>method</th>\n",
       "      <th>uri</th>\n",
       "      <th>version</th>\n",
       "      <th>Host</th>\n",
       "      <th>User-Agent</th>\n",
       "      <th>Accept-Encoding</th>\n",
       "      <th>Accept</th>\n",
       "      <th>Connection</th>\n",
       "      <th>body</th>\n",
       "    </tr>\n",
       "  </thead>\n",
       "  <tbody>\n",
       "    <tr>\n",
       "      <th>0</th>\n",
       "      <td>request</td>\n",
       "      <td>GET</td>\n",
       "      <td>/api/master/kelas?start=0&amp;limit=100&amp;nama=&amp;by=&amp;...</td>\n",
       "      <td>1.1</td>\n",
       "      <td>simponi.4visionmedia.net</td>\n",
       "      <td>python-requests/2.25.1</td>\n",
       "      <td>gzip, deflate</td>\n",
       "      <td>*/*</td>\n",
       "      <td>keep-alive</td>\n",
       "      <td>None</td>\n",
       "    </tr>\n",
       "    <tr>\n",
       "      <th>1</th>\n",
       "      <td>request</td>\n",
       "      <td>GET</td>\n",
       "      <td>/api/kelompok-tani/count</td>\n",
       "      <td>1.1</td>\n",
       "      <td>simponi.4visionmedia.net</td>\n",
       "      <td>python-requests/2.25.1</td>\n",
       "      <td>gzip, deflate</td>\n",
       "      <td>*/*</td>\n",
       "      <td>keep-alive</td>\n",
       "      <td>None</td>\n",
       "    </tr>\n",
       "    <tr>\n",
       "      <th>2</th>\n",
       "      <td>request</td>\n",
       "      <td>GET</td>\n",
       "      <td>/api/master/komoditi?start=0&amp;limit=100&amp;nama=&amp;b...</td>\n",
       "      <td>1.1</td>\n",
       "      <td>simponi.4visionmedia.net</td>\n",
       "      <td>python-requests/2.25.1</td>\n",
       "      <td>gzip, deflate</td>\n",
       "      <td>*/*</td>\n",
       "      <td>keep-alive</td>\n",
       "      <td>None</td>\n",
       "    </tr>\n",
       "    <tr>\n",
       "      <th>3</th>\n",
       "      <td>request</td>\n",
       "      <td>GET</td>\n",
       "      <td>/api/kelompok-tani/perkebunan</td>\n",
       "      <td>1.1</td>\n",
       "      <td>simponi.4visionmedia.net</td>\n",
       "      <td>python-requests/2.25.1</td>\n",
       "      <td>gzip, deflate</td>\n",
       "      <td>*/*</td>\n",
       "      <td>keep-alive</td>\n",
       "      <td>None</td>\n",
       "    </tr>\n",
       "    <tr>\n",
       "      <th>4</th>\n",
       "      <td>request</td>\n",
       "      <td>GET</td>\n",
       "      <td>/api/kelompok-tani/count</td>\n",
       "      <td>1.1</td>\n",
       "      <td>simponi.4visionmedia.net</td>\n",
       "      <td>python-requests/2.25.1</td>\n",
       "      <td>gzip, deflate</td>\n",
       "      <td>*/*</td>\n",
       "      <td>keep-alive</td>\n",
       "      <td>None</td>\n",
       "    </tr>\n",
       "    <tr>\n",
       "      <th>5</th>\n",
       "      <td>request</td>\n",
       "      <td>GET</td>\n",
       "      <td>/api/master/komoditi?start=0&amp;limit=100&amp;nama=&amp;b...</td>\n",
       "      <td>1.1</td>\n",
       "      <td>simponi.4visionmedia.net</td>\n",
       "      <td>python-requests/2.25.1</td>\n",
       "      <td>gzip, deflate</td>\n",
       "      <td>*/*</td>\n",
       "      <td>keep-alive</td>\n",
       "      <td>None</td>\n",
       "    </tr>\n",
       "    <tr>\n",
       "      <th>6</th>\n",
       "      <td>request</td>\n",
       "      <td>GET</td>\n",
       "      <td>/api/master/kelas?start=0&amp;limit=100&amp;nama=&amp;by=&amp;...</td>\n",
       "      <td>1.1</td>\n",
       "      <td>simponi.4visionmedia.net</td>\n",
       "      <td>python-requests/2.25.1</td>\n",
       "      <td>gzip, deflate</td>\n",
       "      <td>*/*</td>\n",
       "      <td>keep-alive</td>\n",
       "      <td>None</td>\n",
       "    </tr>\n",
       "    <tr>\n",
       "      <th>7</th>\n",
       "      <td>request</td>\n",
       "      <td>GET</td>\n",
       "      <td>/api/kelompok-tani/count</td>\n",
       "      <td>1.1</td>\n",
       "      <td>simponi.4visionmedia.net</td>\n",
       "      <td>python-requests/2.25.1</td>\n",
       "      <td>gzip, deflate</td>\n",
       "      <td>*/*</td>\n",
       "      <td>keep-alive</td>\n",
       "      <td>None</td>\n",
       "    </tr>\n",
       "    <tr>\n",
       "      <th>8</th>\n",
       "      <td>request</td>\n",
       "      <td>GET</td>\n",
       "      <td>/api/kelompok-tani/perkebunan</td>\n",
       "      <td>1.1</td>\n",
       "      <td>simponi.4visionmedia.net</td>\n",
       "      <td>python-requests/2.25.1</td>\n",
       "      <td>gzip, deflate</td>\n",
       "      <td>*/*</td>\n",
       "      <td>keep-alive</td>\n",
       "      <td>None</td>\n",
       "    </tr>\n",
       "    <tr>\n",
       "      <th>9</th>\n",
       "      <td>request</td>\n",
       "      <td>GET</td>\n",
       "      <td>/api/kelompok-tani/count</td>\n",
       "      <td>1.1</td>\n",
       "      <td>simponi.4visionmedia.net</td>\n",
       "      <td>python-requests/2.25.1</td>\n",
       "      <td>gzip, deflate</td>\n",
       "      <td>*/*</td>\n",
       "      <td>keep-alive</td>\n",
       "      <td>None</td>\n",
       "    </tr>\n",
       "  </tbody>\n",
       "</table>\n",
       "</div>"
      ],
      "text/plain": [
       "      type method                                                uri version  \\\n",
       "0  request    GET  /api/master/kelas?start=0&limit=100&nama=&by=&...     1.1   \n",
       "1  request    GET                           /api/kelompok-tani/count     1.1   \n",
       "2  request    GET  /api/master/komoditi?start=0&limit=100&nama=&b...     1.1   \n",
       "3  request    GET                      /api/kelompok-tani/perkebunan     1.1   \n",
       "4  request    GET                           /api/kelompok-tani/count     1.1   \n",
       "5  request    GET  /api/master/komoditi?start=0&limit=100&nama=&b...     1.1   \n",
       "6  request    GET  /api/master/kelas?start=0&limit=100&nama=&by=&...     1.1   \n",
       "7  request    GET                           /api/kelompok-tani/count     1.1   \n",
       "8  request    GET                      /api/kelompok-tani/perkebunan     1.1   \n",
       "9  request    GET                           /api/kelompok-tani/count     1.1   \n",
       "\n",
       "                       Host              User-Agent Accept-Encoding Accept  \\\n",
       "0  simponi.4visionmedia.net  python-requests/2.25.1   gzip, deflate    */*   \n",
       "1  simponi.4visionmedia.net  python-requests/2.25.1   gzip, deflate    */*   \n",
       "2  simponi.4visionmedia.net  python-requests/2.25.1   gzip, deflate    */*   \n",
       "3  simponi.4visionmedia.net  python-requests/2.25.1   gzip, deflate    */*   \n",
       "4  simponi.4visionmedia.net  python-requests/2.25.1   gzip, deflate    */*   \n",
       "5  simponi.4visionmedia.net  python-requests/2.25.1   gzip, deflate    */*   \n",
       "6  simponi.4visionmedia.net  python-requests/2.25.1   gzip, deflate    */*   \n",
       "7  simponi.4visionmedia.net  python-requests/2.25.1   gzip, deflate    */*   \n",
       "8  simponi.4visionmedia.net  python-requests/2.25.1   gzip, deflate    */*   \n",
       "9  simponi.4visionmedia.net  python-requests/2.25.1   gzip, deflate    */*   \n",
       "\n",
       "   Connection  body  \n",
       "0  keep-alive  None  \n",
       "1  keep-alive  None  \n",
       "2  keep-alive  None  \n",
       "3  keep-alive  None  \n",
       "4  keep-alive  None  \n",
       "5  keep-alive  None  \n",
       "6  keep-alive  None  \n",
       "7  keep-alive  None  \n",
       "8  keep-alive  None  \n",
       "9  keep-alive  None  "
      ]
     },
     "execution_count": 3,
     "metadata": {},
     "output_type": "execute_result"
    }
   ],
   "source": [
    "import pandas as pd\n",
    "\n",
    "df = []\n",
    "for k, v in data.items():\n",
    "    try:\n",
    "        receipt = v['ethernet']['ipv4']['tcp']['http']['receipt']\n",
    "        header  = v['ethernet']['ipv4']['tcp']['http']['header']\n",
    "        body    = v['ethernet']['ipv4']['tcp']['http']['body']\n",
    "\n",
    "        df.append(  receipt |     \\\n",
    "                    header  |     \\\n",
    "                    {\"body\": body}\n",
    "                )\n",
    "    except:\n",
    "        pass\n",
    "\n",
    "df = pd.df(df)\n",
    "df"
   ]
  },
  {
   "attachments": {},
   "cell_type": "markdown",
   "metadata": {},
   "source": [
    "## extract"
   ]
  },
  {
   "cell_type": "code",
   "execution_count": 1,
   "metadata": {},
   "outputs": [
    {
     "name": "stdout",
     "output_type": "stream",
     "text": [
      "INFO: \t pcapkit\n",
      "INFO: \t open json\n",
      "INFO: \t extratc to df\n",
      "INFO: \t pcapkit\n",
      "INFO: \t open json\n",
      "INFO: \t extratc to df\n",
      "INFO: \t pcapkit\n",
      "INFO: \t open json\n",
      "INFO: \t extratc to df\n",
      "INFO: \t pcapkit\n",
      "INFO: \t open json\n",
      "INFO: \t extratc to df\n"
     ]
    },
    {
     "ename": "KeyboardInterrupt",
     "evalue": "",
     "output_type": "error",
     "traceback": [
      "\u001b[1;31m---------------------------------------------------------------------------\u001b[0m",
      "\u001b[1;31mKeyboardInterrupt\u001b[0m                         Traceback (most recent call last)",
      "Cell \u001b[1;32mIn[1], line 42\u001b[0m\n\u001b[0;32m     39\u001b[0m df \u001b[39m=\u001b[39m pd\u001b[39m.\u001b[39mDataFrame(df)\n\u001b[0;32m     40\u001b[0m df\u001b[39m.\u001b[39mtail(\u001b[39m10\u001b[39m)\n\u001b[1;32m---> 42\u001b[0m time\u001b[39m.\u001b[39;49msleep(\u001b[39m10\u001b[39;49m)\n\u001b[0;32m     43\u001b[0m os\u001b[39m.\u001b[39msystem(\u001b[39m'\u001b[39m\u001b[39mcls\u001b[39m\u001b[39m'\u001b[39m)\n\u001b[0;32m     44\u001b[0m \u001b[39m#subprocess.run(\"cls\")\u001b[39;00m\n",
      "\u001b[1;31mKeyboardInterrupt\u001b[0m: "
     ]
    }
   ],
   "source": [
    "import pandas as pd\n",
    "import json\n",
    "import os\n",
    "import subprocess\n",
    "import time\n",
    "import tqdm\n",
    "\n",
    "while True:\n",
    "    print(f\"INFO: \\t pcapkit\")\n",
    "    cmd = \"pcapkit-cli capture.pcap --output out.json --verbose --format json\"\n",
    "    try:\n",
    "        os.system(cmd)\n",
    "        #subprocess.run( cmd.split(\" \") )\n",
    "    except:\n",
    "        pass\n",
    "    \n",
    "    print(f\"INFO: \\t open json\")\n",
    "    # Read JSON file\n",
    "    f = open('out.json')\n",
    "    \n",
    "    # returns JSON object as a dictionary\n",
    "    data = json.load(f)\n",
    "\n",
    "    print(f\"INFO: \\t extract to df\")\n",
    "    # pandas df\n",
    "    df = []\n",
    "    for k, v in tqdm(data.items()):\n",
    "        try:\n",
    "            receipt = v['ethernet']['ipv4']['tcp']['http']['receipt']\n",
    "            header  = v['ethernet']['ipv4']['tcp']['http']['header']\n",
    "            body    = v['ethernet']['ipv4']['tcp']['http']['body']\n",
    "\n",
    "            df.append(  receipt |     \\\n",
    "                        header  |     \\\n",
    "                        {\"body\": body}\n",
    "                    )\n",
    "        except:\n",
    "            pass\n",
    "\n",
    "    df = pd.df(df)\n",
    "    print(df)\n",
    "\n",
    "    time.sleep(10)\n",
    "    os.system('cls')\n",
    "    #subprocess.run(\"cls\")"
   ]
  },
  {
   "attachments": {},
   "cell_type": "markdown",
   "metadata": {},
   "source": [
    "# Playground"
   ]
  },
  {
   "cell_type": "code",
   "execution_count": 17,
   "metadata": {},
   "outputs": [
    {
     "ename": "ModuleNotFoundError",
     "evalue": "No module named 'flightsql'",
     "output_type": "error",
     "traceback": [
      "\u001b[1;31m---------------------------------------------------------------------------\u001b[0m",
      "\u001b[1;31mModuleNotFoundError\u001b[0m                       Traceback (most recent call last)",
      "Cell \u001b[1;32mIn[17], line 1\u001b[0m\n\u001b[1;32m----> 1\u001b[0m \u001b[39mfrom\u001b[39;00m \u001b[39mflightsql\u001b[39;00m \u001b[39mimport\u001b[39;00m FlightSQLClient\n\u001b[0;32m      3\u001b[0m query \u001b[39m=\u001b[39m \u001b[39m\"\"\"\u001b[39m\u001b[39mSELECT *\u001b[39m\n\u001b[0;32m      4\u001b[0m \u001b[39mFROM \u001b[39m\u001b[39m'\u001b[39m\u001b[39mcensus\u001b[39m\u001b[39m'\u001b[39m\n\u001b[0;32m      5\u001b[0m \u001b[39mWHERE time >= now() - interval \u001b[39m\u001b[39m'\u001b[39m\u001b[39m24 hours\u001b[39m\u001b[39m'\u001b[39m\n\u001b[0;32m      6\u001b[0m \u001b[39mAND (\u001b[39m\u001b[39m'\u001b[39m\u001b[39mbees\u001b[39m\u001b[39m'\u001b[39m\u001b[39m IS NOT NULL OR \u001b[39m\u001b[39m'\u001b[39m\u001b[39mants\u001b[39m\u001b[39m'\u001b[39m\u001b[39m IS NOT NULL)\u001b[39m\u001b[39m\"\"\"\u001b[39m\n\u001b[0;32m      8\u001b[0m \u001b[39m# Define the query client\u001b[39;00m\n",
      "\u001b[1;31mModuleNotFoundError\u001b[0m: No module named 'flightsql'"
     ]
    }
   ],
   "source": [
    "from flightsql import FlightSQLClient\n",
    "\n",
    "query = \"\"\"SELECT *\n",
    "FROM 'census'\n",
    "WHERE time >= now() - interval '24 hours'\n",
    "\"\"\"\n",
    "\n",
    "# Define the query client\n",
    "query_client = FlightSQLClient(\n",
    "  host = \"us-east-1-1.aws.cloud2.influxdata.com\",\n",
    "  token = os.environ.get(\"INFLUXDB_TOKEN\"),\n",
    "  metadata={\"bucket-name\": \"host-test\"})\n",
    "\n",
    "# Execute the query\n",
    "info = query_client.execute(query)\n",
    "reader = query_client.do_get(info.endpoints[0].ticket)\n",
    "\n",
    "# Convert to dataframe\n",
    "data = reader.read_all()\n",
    "df = data.to_pandas().sort_values(by=\"time\")\n",
    "print(df)\n"
   ]
  },
  {
   "cell_type": "code",
   "execution_count": null,
   "metadata": {},
   "outputs": [],
   "source": []
  }
 ],
 "metadata": {
  "kernelspec": {
   "display_name": "remote-capture",
   "language": "python",
   "name": "python3"
  },
  "language_info": {
   "codemirror_mode": {
    "name": "ipython",
    "version": 3
   },
   "file_extension": ".py",
   "mimetype": "text/x-python",
   "name": "python",
   "nbconvert_exporter": "python",
   "pygments_lexer": "ipython3",
   "version": "3.10.9 | packaged by conda-forge | (main, Jan 11 2023, 15:15:40) [MSC v.1916 64 bit (AMD64)]"
  },
  "orig_nbformat": 4,
  "vscode": {
   "interpreter": {
    "hash": "89bff45c20c3999aef56c025a54d28e1b64bea42eb2e3a92b6bbaca06d4750b7"
   }
  }
 },
 "nbformat": 4,
 "nbformat_minor": 2
}
